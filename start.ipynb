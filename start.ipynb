{
 "cells": [
  {
   "cell_type": "code",
   "execution_count": 3,
   "metadata": {},
   "outputs": [
    {
     "name": "stdout",
     "output_type": "stream",
     "text": [
      "Epoch 1/10\n",
      "469/469 [==============================] - 10s 19ms/step - loss: 0.2414 - accuracy: 0.9276 - val_loss: 0.0670 - val_accuracy: 0.9804\n",
      "Epoch 2/10\n",
      "469/469 [==============================] - 8s 17ms/step - loss: 0.0633 - accuracy: 0.9807 - val_loss: 0.0433 - val_accuracy: 0.9876\n",
      "Epoch 3/10\n",
      "469/469 [==============================] - 8s 18ms/step - loss: 0.0439 - accuracy: 0.9862 - val_loss: 0.0334 - val_accuracy: 0.9886\n",
      "Epoch 4/10\n",
      "469/469 [==============================] - 8s 16ms/step - loss: 0.0343 - accuracy: 0.9894 - val_loss: 0.0327 - val_accuracy: 0.9892\n",
      "Epoch 5/10\n",
      "469/469 [==============================] - 8s 17ms/step - loss: 0.0272 - accuracy: 0.9916 - val_loss: 0.0361 - val_accuracy: 0.9884\n",
      "Epoch 6/10\n",
      "469/469 [==============================] - 8s 17ms/step - loss: 0.0241 - accuracy: 0.9921 - val_loss: 0.0315 - val_accuracy: 0.9898\n",
      "Epoch 7/10\n",
      "469/469 [==============================] - 8s 17ms/step - loss: 0.0187 - accuracy: 0.9944 - val_loss: 0.0291 - val_accuracy: 0.9911\n",
      "Epoch 8/10\n",
      "469/469 [==============================] - 8s 18ms/step - loss: 0.0170 - accuracy: 0.9943 - val_loss: 0.0295 - val_accuracy: 0.9909\n",
      "Epoch 9/10\n",
      "469/469 [==============================] - 8s 17ms/step - loss: 0.0150 - accuracy: 0.9951 - val_loss: 0.0270 - val_accuracy: 0.9925\n",
      "Epoch 10/10\n",
      "469/469 [==============================] - 7s 16ms/step - loss: 0.0106 - accuracy: 0.9967 - val_loss: 0.0361 - val_accuracy: 0.9895\n"
     ]
    }
   ],
   "source": [
    "# Importing libs\n",
    "import tensorflow as tf\n",
    "import numpy as np\n",
    "\n",
    "# Load the data\n",
    "mnist = tf.keras.datasets.mnist\n",
    "train_data, test_data = mnist.load_data()\n",
    "\n",
    "# Divide the data into features and labels\n",
    "train_images, train_labels = train_data\n",
    "test_images, test_labels = test_data\n",
    "\n",
    "# Reshape and normalize the images.\n",
    "X_train = train_images.reshape((60000, 28, 28, 1))\n",
    "X_train = X_train.astype('float32') / 255\n",
    "X_test = test_images.reshape((10000, 28, 28, 1))\n",
    "X_test = X_test.astype('float32') / 255\n",
    "# Reshape the labels and encode them categorically.\n",
    "y_train = tf.keras.utils.to_categorical(train_labels)\n",
    "y_test = tf.keras.utils.to_categorical(test_labels)\n",
    "\n",
    "# Define the sequential model\n",
    "model = tf.keras.models.Sequential()\n",
    "\n",
    "# Define the convolutional neural network.\n",
    "model.add(tf.keras.layers.Conv2D(32, (3, 3), activation='relu', input_shape=(28, 28, 1)))\n",
    "model.add(tf.keras.layers.MaxPooling2D((2, 2)))\n",
    "model.add(tf.keras.layers.Conv2D(64, (3, 3), activation='relu'))\n",
    "model.add(tf.keras.layers.MaxPooling2D(2, 2))\n",
    "model.add(tf.keras.layers.Conv2D(64, (3, 3), activation='relu'))\n",
    "model.add(tf.keras.layers.Flatten())\n",
    "model.add(tf.keras.layers.Dense(64, activation='relu'))\n",
    "model.add(tf.keras.layers.Dense(10, activation='softmax'))\n",
    "\n",
    "# Compile the model.\n",
    "model.compile(optimizer='adam', loss='categorical_crossentropy', metrics=['accuracy'])\n",
    "\n",
    "# Define the parameters.\n",
    "num_epochs = 10\n",
    "batch_size = 128\n",
    "# Train the model.\n",
    "history = model.fit(X_train, \n",
    "                      y_train, \n",
    "                      epochs=num_epochs, \n",
    "                      batch_size=batch_size, \n",
    "                      validation_data=(X_test, y_test))"
   ]
  }
 ],
 "metadata": {
  "kernelspec": {
   "display_name": "Python 3",
   "language": "python",
   "name": "python3"
  },
  "language_info": {
   "codemirror_mode": {
    "name": "ipython",
    "version": 3
   },
   "file_extension": ".py",
   "mimetype": "text/x-python",
   "name": "python",
   "nbconvert_exporter": "python",
   "pygments_lexer": "ipython3",
   "version": "3.11.4"
  }
 },
 "nbformat": 4,
 "nbformat_minor": 2
}
